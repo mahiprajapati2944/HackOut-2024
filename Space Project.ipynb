{
 "cells": [
  {
   "cell_type": "markdown",
   "id": "6eeb7b7d",
   "metadata": {},
   "source": [
    "# Space project on Astroid detection"
   ]
  },
  {
   "cell_type": "code",
   "execution_count": 1,
   "id": "1f8e432f",
   "metadata": {},
   "outputs": [],
   "source": [
    "#import libreries\n",
    "import pandas as pd\n",
    "import numpy as np\n",
    "import seaborn as sns\n",
    "import matplotlib.pyplot as plt"
   ]
  },
  {
   "cell_type": "code",
   "execution_count": 2,
   "id": "4aae3af4",
   "metadata": {},
   "outputs": [],
   "source": [
    "#Load the dataset\n",
    "df_impacts = pd.read_csv('impacts.csv')\n",
    "df_orbits = pd.read_csv('orbits.csv')"
   ]
  },
  {
   "cell_type": "code",
   "execution_count": 3,
   "id": "553e438b",
   "metadata": {},
   "outputs": [
    {
     "data": {
      "text/html": [
       "<div>\n",
       "<style scoped>\n",
       "    .dataframe tbody tr th:only-of-type {\n",
       "        vertical-align: middle;\n",
       "    }\n",
       "\n",
       "    .dataframe tbody tr th {\n",
       "        vertical-align: top;\n",
       "    }\n",
       "\n",
       "    .dataframe thead th {\n",
       "        text-align: right;\n",
       "    }\n",
       "</style>\n",
       "<table border=\"1\" class=\"dataframe\">\n",
       "  <thead>\n",
       "    <tr style=\"text-align: right;\">\n",
       "      <th></th>\n",
       "      <th>Object Name</th>\n",
       "      <th>Period Start</th>\n",
       "      <th>Period End</th>\n",
       "      <th>Possible Impacts</th>\n",
       "      <th>Cumulative Impact Probability</th>\n",
       "      <th>Asteroid Velocity</th>\n",
       "      <th>Asteroid Magnitude</th>\n",
       "      <th>Asteroid Diameter (km)</th>\n",
       "      <th>Cumulative Palermo Scale</th>\n",
       "      <th>Maximum Palermo Scale</th>\n",
       "      <th>Maximum Torino Scale</th>\n",
       "    </tr>\n",
       "  </thead>\n",
       "  <tbody>\n",
       "    <tr>\n",
       "      <th>0</th>\n",
       "      <td>2006 WP1</td>\n",
       "      <td>2017</td>\n",
       "      <td>2017</td>\n",
       "      <td>1</td>\n",
       "      <td>5.200000e-09</td>\n",
       "      <td>17.77</td>\n",
       "      <td>28.3</td>\n",
       "      <td>0.007</td>\n",
       "      <td>-8.31</td>\n",
       "      <td>-8.31</td>\n",
       "      <td>0</td>\n",
       "    </tr>\n",
       "    <tr>\n",
       "      <th>1</th>\n",
       "      <td>2013 YB</td>\n",
       "      <td>2017</td>\n",
       "      <td>2046</td>\n",
       "      <td>23</td>\n",
       "      <td>7.600000e-05</td>\n",
       "      <td>8.98</td>\n",
       "      <td>31.4</td>\n",
       "      <td>0.002</td>\n",
       "      <td>-6.60</td>\n",
       "      <td>-6.96</td>\n",
       "      <td>0</td>\n",
       "    </tr>\n",
       "    <tr>\n",
       "      <th>2</th>\n",
       "      <td>2008 US</td>\n",
       "      <td>2017</td>\n",
       "      <td>2062</td>\n",
       "      <td>30</td>\n",
       "      <td>1.600000e-05</td>\n",
       "      <td>18.33</td>\n",
       "      <td>31.4</td>\n",
       "      <td>0.002</td>\n",
       "      <td>-6.48</td>\n",
       "      <td>-6.87</td>\n",
       "      <td>0</td>\n",
       "    </tr>\n",
       "    <tr>\n",
       "      <th>3</th>\n",
       "      <td>2010 VR139</td>\n",
       "      <td>2017</td>\n",
       "      <td>2076</td>\n",
       "      <td>24</td>\n",
       "      <td>2.000000e-07</td>\n",
       "      <td>4.99</td>\n",
       "      <td>26.7</td>\n",
       "      <td>0.016</td>\n",
       "      <td>-6.83</td>\n",
       "      <td>-6.95</td>\n",
       "      <td>0</td>\n",
       "    </tr>\n",
       "    <tr>\n",
       "      <th>4</th>\n",
       "      <td>2015 ME131</td>\n",
       "      <td>2017</td>\n",
       "      <td>2096</td>\n",
       "      <td>85</td>\n",
       "      <td>2.300000e-08</td>\n",
       "      <td>19.46</td>\n",
       "      <td>19.2</td>\n",
       "      <td>0.497</td>\n",
       "      <td>-3.85</td>\n",
       "      <td>-4.30</td>\n",
       "      <td>0</td>\n",
       "    </tr>\n",
       "  </tbody>\n",
       "</table>\n",
       "</div>"
      ],
      "text/plain": [
       "  Object Name  Period Start  Period End  Possible Impacts  \\\n",
       "0    2006 WP1          2017        2017                 1   \n",
       "1     2013 YB          2017        2046                23   \n",
       "2     2008 US          2017        2062                30   \n",
       "3  2010 VR139          2017        2076                24   \n",
       "4  2015 ME131          2017        2096                85   \n",
       "\n",
       "   Cumulative Impact Probability  Asteroid Velocity  Asteroid Magnitude  \\\n",
       "0                   5.200000e-09              17.77                28.3   \n",
       "1                   7.600000e-05               8.98                31.4   \n",
       "2                   1.600000e-05              18.33                31.4   \n",
       "3                   2.000000e-07               4.99                26.7   \n",
       "4                   2.300000e-08              19.46                19.2   \n",
       "\n",
       "   Asteroid Diameter (km)  Cumulative Palermo Scale  Maximum Palermo Scale  \\\n",
       "0                   0.007                     -8.31                  -8.31   \n",
       "1                   0.002                     -6.60                  -6.96   \n",
       "2                   0.002                     -6.48                  -6.87   \n",
       "3                   0.016                     -6.83                  -6.95   \n",
       "4                   0.497                     -3.85                  -4.30   \n",
       "\n",
       "  Maximum Torino Scale  \n",
       "0                    0  \n",
       "1                    0  \n",
       "2                    0  \n",
       "3                    0  \n",
       "4                    0  "
      ]
     },
     "execution_count": 3,
     "metadata": {},
     "output_type": "execute_result"
    }
   ],
   "source": [
    "df_impacts.head()"
   ]
  },
  {
   "cell_type": "code",
   "execution_count": 4,
   "id": "24e3e735",
   "metadata": {},
   "outputs": [
    {
     "data": {
      "text/html": [
       "<div>\n",
       "<style scoped>\n",
       "    .dataframe tbody tr th:only-of-type {\n",
       "        vertical-align: middle;\n",
       "    }\n",
       "\n",
       "    .dataframe tbody tr th {\n",
       "        vertical-align: top;\n",
       "    }\n",
       "\n",
       "    .dataframe thead th {\n",
       "        text-align: right;\n",
       "    }\n",
       "</style>\n",
       "<table border=\"1\" class=\"dataframe\">\n",
       "  <thead>\n",
       "    <tr style=\"text-align: right;\">\n",
       "      <th></th>\n",
       "      <th>Object Name</th>\n",
       "      <th>Object Classification</th>\n",
       "      <th>Epoch (TDB)</th>\n",
       "      <th>Orbit Axis (AU)</th>\n",
       "      <th>Orbit Eccentricity</th>\n",
       "      <th>Orbit Inclination (deg)</th>\n",
       "      <th>Perihelion Argument (deg)</th>\n",
       "      <th>Node Longitude (deg)</th>\n",
       "      <th>Mean Anomoly (deg)</th>\n",
       "      <th>Perihelion Distance (AU)</th>\n",
       "      <th>Aphelion Distance (AU)</th>\n",
       "      <th>Orbital Period (yr)</th>\n",
       "      <th>Minimum Orbit Intersection Distance (AU)</th>\n",
       "      <th>Orbital Reference</th>\n",
       "      <th>Asteroid Magnitude</th>\n",
       "    </tr>\n",
       "  </thead>\n",
       "  <tbody>\n",
       "    <tr>\n",
       "      <th>0</th>\n",
       "      <td>433 Eros</td>\n",
       "      <td>Amor Asteroid</td>\n",
       "      <td>57800</td>\n",
       "      <td>1.4579</td>\n",
       "      <td>0.2226</td>\n",
       "      <td>10.8277</td>\n",
       "      <td>178.8050</td>\n",
       "      <td>304.3265</td>\n",
       "      <td>319.3111</td>\n",
       "      <td>1.1335</td>\n",
       "      <td>1.78</td>\n",
       "      <td>1.76</td>\n",
       "      <td>0.1492</td>\n",
       "      <td>598</td>\n",
       "      <td>11.16</td>\n",
       "    </tr>\n",
       "    <tr>\n",
       "      <th>1</th>\n",
       "      <td>719 Albert</td>\n",
       "      <td>Amor Asteroid</td>\n",
       "      <td>57800</td>\n",
       "      <td>2.6385</td>\n",
       "      <td>0.5479</td>\n",
       "      <td>11.5822</td>\n",
       "      <td>156.1409</td>\n",
       "      <td>183.9204</td>\n",
       "      <td>224.5535</td>\n",
       "      <td>1.1928</td>\n",
       "      <td>4.08</td>\n",
       "      <td>4.29</td>\n",
       "      <td>0.2004</td>\n",
       "      <td>78</td>\n",
       "      <td>15.50</td>\n",
       "    </tr>\n",
       "    <tr>\n",
       "      <th>2</th>\n",
       "      <td>887 Alinda</td>\n",
       "      <td>Amor Asteroid</td>\n",
       "      <td>57800</td>\n",
       "      <td>2.4787</td>\n",
       "      <td>0.5671</td>\n",
       "      <td>9.3561</td>\n",
       "      <td>350.3482</td>\n",
       "      <td>110.5444</td>\n",
       "      <td>351.3730</td>\n",
       "      <td>1.0731</td>\n",
       "      <td>3.88</td>\n",
       "      <td>3.90</td>\n",
       "      <td>0.0925</td>\n",
       "      <td>188</td>\n",
       "      <td>13.40</td>\n",
       "    </tr>\n",
       "    <tr>\n",
       "      <th>3</th>\n",
       "      <td>1036 Ganymed</td>\n",
       "      <td>Amor Asteroid</td>\n",
       "      <td>57800</td>\n",
       "      <td>2.6628</td>\n",
       "      <td>0.5338</td>\n",
       "      <td>26.6929</td>\n",
       "      <td>132.4690</td>\n",
       "      <td>215.5551</td>\n",
       "      <td>92.5640</td>\n",
       "      <td>1.2413</td>\n",
       "      <td>4.08</td>\n",
       "      <td>4.35</td>\n",
       "      <td>0.3421</td>\n",
       "      <td>597</td>\n",
       "      <td>9.45</td>\n",
       "    </tr>\n",
       "    <tr>\n",
       "      <th>4</th>\n",
       "      <td>1221 Amor</td>\n",
       "      <td>Amor Asteroid</td>\n",
       "      <td>57800</td>\n",
       "      <td>1.9191</td>\n",
       "      <td>0.4356</td>\n",
       "      <td>11.8795</td>\n",
       "      <td>26.6572</td>\n",
       "      <td>171.3448</td>\n",
       "      <td>313.7379</td>\n",
       "      <td>1.0832</td>\n",
       "      <td>2.76</td>\n",
       "      <td>2.66</td>\n",
       "      <td>0.1068</td>\n",
       "      <td>70</td>\n",
       "      <td>17.70</td>\n",
       "    </tr>\n",
       "  </tbody>\n",
       "</table>\n",
       "</div>"
      ],
      "text/plain": [
       "    Object Name Object Classification  Epoch (TDB)  Orbit Axis (AU)  \\\n",
       "0      433 Eros         Amor Asteroid        57800           1.4579   \n",
       "1    719 Albert         Amor Asteroid        57800           2.6385   \n",
       "2    887 Alinda         Amor Asteroid        57800           2.4787   \n",
       "3  1036 Ganymed         Amor Asteroid        57800           2.6628   \n",
       "4     1221 Amor         Amor Asteroid        57800           1.9191   \n",
       "\n",
       "   Orbit Eccentricity  Orbit Inclination (deg)  Perihelion Argument (deg)  \\\n",
       "0              0.2226                  10.8277                   178.8050   \n",
       "1              0.5479                  11.5822                   156.1409   \n",
       "2              0.5671                   9.3561                   350.3482   \n",
       "3              0.5338                  26.6929                   132.4690   \n",
       "4              0.4356                  11.8795                    26.6572   \n",
       "\n",
       "   Node Longitude (deg)  Mean Anomoly (deg)  Perihelion Distance (AU)  \\\n",
       "0              304.3265            319.3111                    1.1335   \n",
       "1              183.9204            224.5535                    1.1928   \n",
       "2              110.5444            351.3730                    1.0731   \n",
       "3              215.5551             92.5640                    1.2413   \n",
       "4              171.3448            313.7379                    1.0832   \n",
       "\n",
       "   Aphelion Distance (AU)  Orbital Period (yr)  \\\n",
       "0                    1.78                 1.76   \n",
       "1                    4.08                 4.29   \n",
       "2                    3.88                 3.90   \n",
       "3                    4.08                 4.35   \n",
       "4                    2.76                 2.66   \n",
       "\n",
       "   Minimum Orbit Intersection Distance (AU)  Orbital Reference  \\\n",
       "0                                    0.1492                598   \n",
       "1                                    0.2004                 78   \n",
       "2                                    0.0925                188   \n",
       "3                                    0.3421                597   \n",
       "4                                    0.1068                 70   \n",
       "\n",
       "   Asteroid Magnitude  \n",
       "0               11.16  \n",
       "1               15.50  \n",
       "2               13.40  \n",
       "3                9.45  \n",
       "4               17.70  "
      ]
     },
     "execution_count": 4,
     "metadata": {},
     "output_type": "execute_result"
    }
   ],
   "source": [
    "df_orbits.head()"
   ]
  },
  {
   "cell_type": "markdown",
   "id": "8e60ec2d",
   "metadata": {},
   "source": [
    "# Data Overview"
   ]
  },
  {
   "cell_type": "code",
   "execution_count": 5,
   "id": "ac277301",
   "metadata": {},
   "outputs": [
    {
     "data": {
      "text/plain": [
       "Index(['Object Name', 'Period Start', 'Period End', 'Possible Impacts',\n",
       "       'Cumulative Impact Probability', 'Asteroid Velocity',\n",
       "       'Asteroid Magnitude', 'Asteroid Diameter (km)',\n",
       "       'Cumulative Palermo Scale', 'Maximum Palermo Scale',\n",
       "       'Maximum Torino Scale'],\n",
       "      dtype='object')"
      ]
     },
     "execution_count": 5,
     "metadata": {},
     "output_type": "execute_result"
    }
   ],
   "source": [
    "df_impacts.columns"
   ]
  },
  {
   "cell_type": "code",
   "execution_count": 6,
   "id": "5baf2854",
   "metadata": {},
   "outputs": [
    {
     "data": {
      "text/plain": [
       "Index(['Object Name', 'Object Classification', 'Epoch (TDB)',\n",
       "       'Orbit Axis (AU)', 'Orbit Eccentricity', 'Orbit Inclination (deg)',\n",
       "       'Perihelion Argument (deg)', 'Node Longitude (deg)',\n",
       "       'Mean Anomoly (deg)', 'Perihelion Distance (AU)',\n",
       "       'Aphelion Distance (AU)', 'Orbital Period (yr)',\n",
       "       'Minimum Orbit Intersection Distance (AU)', 'Orbital Reference',\n",
       "       'Asteroid Magnitude'],\n",
       "      dtype='object')"
      ]
     },
     "execution_count": 6,
     "metadata": {},
     "output_type": "execute_result"
    }
   ],
   "source": [
    "df_orbits.columns"
   ]
  },
  {
   "cell_type": "markdown",
   "id": "fe5a5b3b",
   "metadata": {},
   "source": [
    "# Basic Stat about data"
   ]
  },
  {
   "cell_type": "code",
   "execution_count": 7,
   "id": "53567d01",
   "metadata": {},
   "outputs": [
    {
     "data": {
      "text/plain": [
       "(683, 11)"
      ]
     },
     "execution_count": 7,
     "metadata": {},
     "output_type": "execute_result"
    }
   ],
   "source": [
    "#Shape of the data\n",
    "df_impacts.shape"
   ]
  },
  {
   "cell_type": "code",
   "execution_count": 8,
   "id": "40823d5a",
   "metadata": {},
   "outputs": [
    {
     "data": {
      "text/plain": [
       "(15635, 15)"
      ]
     },
     "execution_count": 8,
     "metadata": {},
     "output_type": "execute_result"
    }
   ],
   "source": [
    "#Shape of the data\n",
    "df_orbits.shape"
   ]
  },
  {
   "cell_type": "code",
   "execution_count": 9,
   "id": "474b8352",
   "metadata": {},
   "outputs": [
    {
     "name": "stdout",
     "output_type": "stream",
     "text": [
      "<class 'pandas.core.frame.DataFrame'>\n",
      "RangeIndex: 683 entries, 0 to 682\n",
      "Data columns (total 11 columns):\n",
      " #   Column                         Non-Null Count  Dtype  \n",
      "---  ------                         --------------  -----  \n",
      " 0   Object Name                    683 non-null    object \n",
      " 1   Period Start                   683 non-null    int64  \n",
      " 2   Period End                     683 non-null    int64  \n",
      " 3   Possible Impacts               683 non-null    int64  \n",
      " 4   Cumulative Impact Probability  683 non-null    float64\n",
      " 5   Asteroid Velocity              683 non-null    float64\n",
      " 6   Asteroid Magnitude             683 non-null    float64\n",
      " 7   Asteroid Diameter (km)         683 non-null    float64\n",
      " 8   Cumulative Palermo Scale       683 non-null    float64\n",
      " 9   Maximum Palermo Scale          683 non-null    float64\n",
      " 10  Maximum Torino Scale           683 non-null    object \n",
      "dtypes: float64(6), int64(3), object(2)\n",
      "memory usage: 58.8+ KB\n"
     ]
    }
   ],
   "source": [
    "#Info of the data\n",
    "df_impacts.info()"
   ]
  },
  {
   "cell_type": "code",
   "execution_count": 15,
   "id": "3ec3fc5c",
   "metadata": {},
   "outputs": [],
   "source": [
    "df_impacts[\"Cumulative Impact Probability\"] = df_impacts[\"Cumulative Impact Probability\"].apply(np.int64)\n",
    "df_impacts[\"Asteroid Velocity\"] = df_impacts[\"Asteroid Velocity\"].apply(np.int64)\n",
    "df_impacts[\"Asteroid Magnitude\"] = df_impacts[\"Asteroid Magnitude\"].apply(np.int64)\n",
    "df_impacts[\"Asteroid Diameter (km)\"] = df_impacts[\"Asteroid Diameter (km)\"].apply(np.int64)\n",
    "df_impacts[\"Cumulative Palermo Scale\"] = df_impacts[\"Cumulative Palermo Scale\"].apply(np.int64)\n",
    "df_impacts[\"Maximum Palermo Scale\"] = df_impacts[\"Maximum Palermo Scale\"].apply(np.int64)"
   ]
  },
  {
   "cell_type": "code",
   "execution_count": 16,
   "id": "9a08bb74",
   "metadata": {},
   "outputs": [
    {
     "name": "stdout",
     "output_type": "stream",
     "text": [
      "<class 'pandas.core.frame.DataFrame'>\n",
      "RangeIndex: 683 entries, 0 to 682\n",
      "Data columns (total 11 columns):\n",
      " #   Column                         Non-Null Count  Dtype \n",
      "---  ------                         --------------  ----- \n",
      " 0   Object Name                    683 non-null    object\n",
      " 1   Period Start                   683 non-null    int64 \n",
      " 2   Period End                     683 non-null    int64 \n",
      " 3   Possible Impacts               683 non-null    int64 \n",
      " 4   Cumulative Impact Probability  683 non-null    int64 \n",
      " 5   Asteroid Velocity              683 non-null    int64 \n",
      " 6   Asteroid Magnitude             683 non-null    int64 \n",
      " 7   Asteroid Diameter (km)         683 non-null    int64 \n",
      " 8   Cumulative Palermo Scale       683 non-null    int64 \n",
      " 9   Maximum Palermo Scale          683 non-null    int64 \n",
      " 10  Maximum Torino Scale           683 non-null    object\n",
      "dtypes: int64(9), object(2)\n",
      "memory usage: 58.8+ KB\n"
     ]
    }
   ],
   "source": [
    "#Info of the data\n",
    "df_impacts.info()"
   ]
  },
  {
   "cell_type": "code",
   "execution_count": 54,
   "id": "2df26574",
   "metadata": {},
   "outputs": [
    {
     "name": "stdout",
     "output_type": "stream",
     "text": [
      "<class 'pandas.core.frame.DataFrame'>\n",
      "RangeIndex: 15635 entries, 0 to 15634\n",
      "Data columns (total 15 columns):\n",
      " #   Column                                    Non-Null Count  Dtype  \n",
      "---  ------                                    --------------  -----  \n",
      " 0   Object Name                               15635 non-null  object \n",
      " 1   Object Classification                     15635 non-null  object \n",
      " 2   Epoch (TDB)                               15635 non-null  int64  \n",
      " 3   Orbit Axis (AU)                           15635 non-null  float64\n",
      " 4   Orbit Eccentricity                        15635 non-null  float64\n",
      " 5   Orbit Inclination (deg)                   15635 non-null  float64\n",
      " 6   Perihelion Argument (deg)                 15635 non-null  float64\n",
      " 7   Node Longitude (deg)                      15635 non-null  float64\n",
      " 8   Mean Anomoly (deg)                        15635 non-null  float64\n",
      " 9   Perihelion Distance (AU)                  15635 non-null  float64\n",
      " 10  Aphelion Distance (AU)                    15635 non-null  float64\n",
      " 11  Orbital Period (yr)                       15635 non-null  float64\n",
      " 12  Minimum Orbit Intersection Distance (AU)  15635 non-null  float64\n",
      " 13  Orbital Reference                         15635 non-null  int64  \n",
      " 14  Asteroid Magnitude                        15634 non-null  float64\n",
      "dtypes: float64(11), int64(2), object(2)\n",
      "memory usage: 1.8+ MB\n"
     ]
    }
   ],
   "source": [
    "#Info of the data\n",
    "df_orbits.info()"
   ]
  },
  {
   "cell_type": "code",
   "execution_count": 63,
   "id": "4116b321",
   "metadata": {},
   "outputs": [],
   "source": [
    "df_orbits[\"Orbit Axis (AU)\"] = df_orbits[\"Orbit Axis (AU)\"].apply(np.int64)\n",
    "df_orbits[\"Orbit Eccentricity\"] = df_orbits[\"Orbit Eccentricity\"].apply(np.int64)\n",
    "df_orbits[\"Orbit Inclination (deg)\"] = df_orbits[\"Orbit Inclination (deg)\"].apply(np.int64)\n",
    "df_orbits[\"Perihelion Argument (deg)\"] = df_orbits[\"Perihelion Argument (deg)\"].apply(np.int64)\n",
    "df_orbits[\"Node Longitude (deg)\"] = df_orbits[\"Node Longitude (deg)\"].apply(np.int64)\n",
    "df_orbits[\"Mean Anomoly (deg)\"] = df_orbits[\"Mean Anomoly (deg)\"].apply(np.int64)\n",
    "df_orbits[\"Perihelion Distance (AU)\"] = df_orbits[\"Perihelion Distance (AU)\"].apply(np.int64)\n",
    "df_orbits[\"Aphelion Distance (AU)\"] = df_orbits[\"Aphelion Distance (AU)\"].apply(np.int64)\n",
    "df_orbits[\"Orbital Period (yr)\"] = df_orbits[\"Orbital Period (yr)\"].apply(np.int64)\n",
    "df_orbits[\"Minimum Orbit Intersection Distance (AU)\"] = df_orbits[\"Minimum Orbit Intersection Distance (AU)\"].apply(np.int64)\n",
    "#df_orbits[\"Asteroid Magnitude \"] = df_orbits[\"Asteroid Magnitude\"].apply(np.int64)"
   ]
  },
  {
   "cell_type": "code",
   "execution_count": 64,
   "id": "3de6e320",
   "metadata": {},
   "outputs": [
    {
     "name": "stdout",
     "output_type": "stream",
     "text": [
      "<class 'pandas.core.frame.DataFrame'>\n",
      "RangeIndex: 15635 entries, 0 to 15634\n",
      "Data columns (total 15 columns):\n",
      " #   Column                                    Non-Null Count  Dtype  \n",
      "---  ------                                    --------------  -----  \n",
      " 0   Object Name                               15635 non-null  object \n",
      " 1   Object Classification                     15635 non-null  object \n",
      " 2   Epoch (TDB)                               15635 non-null  int64  \n",
      " 3   Orbit Axis (AU)                           15635 non-null  int64  \n",
      " 4   Orbit Eccentricity                        15635 non-null  int64  \n",
      " 5   Orbit Inclination (deg)                   15635 non-null  int64  \n",
      " 6   Perihelion Argument (deg)                 15635 non-null  int64  \n",
      " 7   Node Longitude (deg)                      15635 non-null  int64  \n",
      " 8   Mean Anomoly (deg)                        15635 non-null  int64  \n",
      " 9   Perihelion Distance (AU)                  15635 non-null  int64  \n",
      " 10  Aphelion Distance (AU)                    15635 non-null  int64  \n",
      " 11  Orbital Period (yr)                       15635 non-null  int64  \n",
      " 12  Minimum Orbit Intersection Distance (AU)  15635 non-null  int64  \n",
      " 13  Orbital Reference                         15635 non-null  int64  \n",
      " 14  Asteroid Magnitude                        15634 non-null  float64\n",
      "dtypes: float64(1), int64(12), object(2)\n",
      "memory usage: 1.8+ MB\n"
     ]
    }
   ],
   "source": [
    "#Info of the data\n",
    "df_orbits.info()"
   ]
  },
  {
   "cell_type": "code",
   "execution_count": 65,
   "id": "87a6f161",
   "metadata": {},
   "outputs": [
    {
     "data": {
      "text/plain": [
       "Object Name                      0\n",
       "Period Start                     0\n",
       "Period End                       0\n",
       "Possible Impacts                 0\n",
       "Cumulative Impact Probability    0\n",
       "Asteroid Velocity                0\n",
       "Asteroid Magnitude               0\n",
       "Asteroid Diameter (km)           0\n",
       "Cumulative Palermo Scale         0\n",
       "Maximum Palermo Scale            0\n",
       "Maximum Torino Scale             0\n",
       "dtype: int64"
      ]
     },
     "execution_count": 65,
     "metadata": {},
     "output_type": "execute_result"
    }
   ],
   "source": [
    "#Find the nulls present in the data\n",
    "df_impacts.isnull().sum()"
   ]
  },
  {
   "cell_type": "code",
   "execution_count": 66,
   "id": "85ba61bf",
   "metadata": {},
   "outputs": [
    {
     "data": {
      "text/plain": [
       "Object Name                                 0\n",
       "Object Classification                       0\n",
       "Epoch (TDB)                                 0\n",
       "Orbit Axis (AU)                             0\n",
       "Orbit Eccentricity                          0\n",
       "Orbit Inclination (deg)                     0\n",
       "Perihelion Argument (deg)                   0\n",
       "Node Longitude (deg)                        0\n",
       "Mean Anomoly (deg)                          0\n",
       "Perihelion Distance (AU)                    0\n",
       "Aphelion Distance (AU)                      0\n",
       "Orbital Period (yr)                         0\n",
       "Minimum Orbit Intersection Distance (AU)    0\n",
       "Orbital Reference                           0\n",
       "Asteroid Magnitude                          1\n",
       "dtype: int64"
      ]
     },
     "execution_count": 66,
     "metadata": {},
     "output_type": "execute_result"
    }
   ],
   "source": [
    "#Find the nulls present in the data\n",
    "df_orbits.isnull().sum()"
   ]
  },
  {
   "cell_type": "code",
   "execution_count": 67,
   "id": "48515655",
   "metadata": {},
   "outputs": [
    {
     "data": {
      "text/plain": [
       "Object Name                                 0.000000\n",
       "Object Classification                       0.000000\n",
       "Epoch (TDB)                                 0.000000\n",
       "Orbit Axis (AU)                             0.000000\n",
       "Orbit Eccentricity                          0.000000\n",
       "Orbit Inclination (deg)                     0.000000\n",
       "Perihelion Argument (deg)                   0.000000\n",
       "Node Longitude (deg)                        0.000000\n",
       "Mean Anomoly (deg)                          0.000000\n",
       "Perihelion Distance (AU)                    0.000000\n",
       "Aphelion Distance (AU)                      0.000000\n",
       "Orbital Period (yr)                         0.000000\n",
       "Minimum Orbit Intersection Distance (AU)    0.000000\n",
       "Orbital Reference                           0.000000\n",
       "Asteroid Magnitude                          0.006396\n",
       "dtype: float64"
      ]
     },
     "execution_count": 67,
     "metadata": {},
     "output_type": "execute_result"
    }
   ],
   "source": [
    "#Find the percentage of null values\n",
    "df_orbits.isnull().sum()/len(df_orbits)*100"
   ]
  },
  {
   "cell_type": "code",
   "execution_count": 68,
   "id": "2fd1c14e",
   "metadata": {},
   "outputs": [
    {
     "data": {
      "text/plain": [
       "0.0063959066197633516"
      ]
     },
     "execution_count": 68,
     "metadata": {},
     "output_type": "execute_result"
    }
   ],
   "source": [
    "#Find the percentage of null values in the column\n",
    "#Find the percentage of null values\n",
    "df_orbits['Asteroid Magnitude'].isnull().sum()/df_orbits.shape[0]*100"
   ]
  },
  {
   "cell_type": "code",
   "execution_count": 69,
   "id": "3251e3af",
   "metadata": {},
   "outputs": [
    {
     "data": {
      "text/plain": [
       "22.28633555072282"
      ]
     },
     "execution_count": 69,
     "metadata": {},
     "output_type": "execute_result"
    }
   ],
   "source": [
    "#Find the mean of the Sales column\n",
    "df_orbits['Asteroid Magnitude'].mean()"
   ]
  },
  {
   "cell_type": "code",
   "execution_count": 70,
   "id": "3856800e",
   "metadata": {},
   "outputs": [],
   "source": [
    "# Fill the na values with the mean of the same column\n",
    "df_orbits['Asteroid Magnitude'].fillna(df_orbits['Asteroid Magnitude'].mean(),inplace=True)"
   ]
  },
  {
   "cell_type": "code",
   "execution_count": 71,
   "id": "6c93503e",
   "metadata": {},
   "outputs": [
    {
     "data": {
      "text/plain": [
       "Object Name                                 0.0\n",
       "Object Classification                       0.0\n",
       "Epoch (TDB)                                 0.0\n",
       "Orbit Axis (AU)                             0.0\n",
       "Orbit Eccentricity                          0.0\n",
       "Orbit Inclination (deg)                     0.0\n",
       "Perihelion Argument (deg)                   0.0\n",
       "Node Longitude (deg)                        0.0\n",
       "Mean Anomoly (deg)                          0.0\n",
       "Perihelion Distance (AU)                    0.0\n",
       "Aphelion Distance (AU)                      0.0\n",
       "Orbital Period (yr)                         0.0\n",
       "Minimum Orbit Intersection Distance (AU)    0.0\n",
       "Orbital Reference                           0.0\n",
       "Asteroid Magnitude                          0.0\n",
       "dtype: float64"
      ]
     },
     "execution_count": 71,
     "metadata": {},
     "output_type": "execute_result"
    }
   ],
   "source": [
    "#Check the actions\n",
    "df_orbits.isnull().sum()/len(df_orbits)*100"
   ]
  },
  {
   "cell_type": "code",
   "execution_count": 74,
   "id": "e0b11d12",
   "metadata": {},
   "outputs": [],
   "source": [
    "df_orbits[\"Asteroid Magnitude\"] = df_orbits[\"Asteroid Magnitude\"].apply(np.int64)"
   ]
  },
  {
   "cell_type": "code",
   "execution_count": 75,
   "id": "c18173df",
   "metadata": {},
   "outputs": [
    {
     "name": "stdout",
     "output_type": "stream",
     "text": [
      "<class 'pandas.core.frame.DataFrame'>\n",
      "RangeIndex: 15635 entries, 0 to 15634\n",
      "Data columns (total 16 columns):\n",
      " #   Column                                    Non-Null Count  Dtype \n",
      "---  ------                                    --------------  ----- \n",
      " 0   Object Name                               15635 non-null  object\n",
      " 1   Object Classification                     15635 non-null  object\n",
      " 2   Epoch (TDB)                               15635 non-null  int64 \n",
      " 3   Orbit Axis (AU)                           15635 non-null  int64 \n",
      " 4   Orbit Eccentricity                        15635 non-null  int64 \n",
      " 5   Orbit Inclination (deg)                   15635 non-null  int64 \n",
      " 6   Perihelion Argument (deg)                 15635 non-null  int64 \n",
      " 7   Node Longitude (deg)                      15635 non-null  int64 \n",
      " 8   Mean Anomoly (deg)                        15635 non-null  int64 \n",
      " 9   Perihelion Distance (AU)                  15635 non-null  int64 \n",
      " 10  Aphelion Distance (AU)                    15635 non-null  int64 \n",
      " 11  Orbital Period (yr)                       15635 non-null  int64 \n",
      " 12  Minimum Orbit Intersection Distance (AU)  15635 non-null  int64 \n",
      " 13  Orbital Reference                         15635 non-null  int64 \n",
      " 14  Asteroid Magnitude                        15635 non-null  int64 \n",
      " 15  Asteroid Magnitude                        15635 non-null  int64 \n",
      "dtypes: int64(14), object(2)\n",
      "memory usage: 1.9+ MB\n"
     ]
    }
   ],
   "source": [
    "#Info of the data\n",
    "df_orbits.info()"
   ]
  },
  {
   "cell_type": "markdown",
   "id": "24775462",
   "metadata": {},
   "source": [
    "# Univariate analysis"
   ]
  },
  {
   "cell_type": "code",
   "execution_count": 19,
   "id": "e478aead",
   "metadata": {},
   "outputs": [
    {
     "data": {
      "text/plain": [
       "Index(['Object Name', 'Period Start', 'Period End', 'Possible Impacts',\n",
       "       'Cumulative Impact Probability', 'Asteroid Velocity',\n",
       "       'Asteroid Magnitude', 'Asteroid Diameter (km)',\n",
       "       'Cumulative Palermo Scale', 'Maximum Palermo Scale',\n",
       "       'Maximum Torino Scale'],\n",
       "      dtype='object')"
      ]
     },
     "execution_count": 19,
     "metadata": {},
     "output_type": "execute_result"
    }
   ],
   "source": [
    "#impact dataset\n",
    "df_impacts.columns"
   ]
  },
  {
   "cell_type": "raw",
   "id": "323cee94",
   "metadata": {},
   "source": [
    "#Asteroid anaysis\n",
    "Object Name : both an asteroid and a near-Earth objec\n",
    "Period Start: year of start\n",
    "Period End : year of end\n",
    "Possible Impacts : If the value is greater than 1, it suggests multiple potential impact scenarios.\n",
    "Cumulative Impact : Probability same as above\n",
    "Asteroid Velocity : measure of kilometers per second (km/s)\n",
    "Asteroid Magnitude : measure of its brightnes\n",
    "Asteroid Diameter (km) : size\n",
    "Cumulative Palermo Scale  : indicates a risk.\n",
    "Maximum Palermo Scale : cumulative score.\n",
    "Maximum Torino Scale : N/A"
   ]
  },
  {
   "cell_type": "code",
   "execution_count": 32,
   "id": "d7797f9a",
   "metadata": {},
   "outputs": [
    {
     "data": {
      "image/png": "[encoded data removed]",
      "text/plain": [
       "<Figure size 432x288 with 1 Axes>"
      ]
     },
     "metadata": {
      "needs_background": "light"
     },
     "output_type": "display_data"
    }
   ],
   "source": [
    "# Assuming df_impacts is your DataFrame and it has been loaded correctly\n",
    "# Group by 'Object Name' and find the maximum 'Possible Impacts' for each object\n",
    "max_impacts = df_impacts.groupby('Object Name')['Possible Impacts'].max()\n",
    "\n",
    "# Sort the results to get the top objects by maximum possible impacts\n",
    "max_impacts_sorted = max_impacts.sort_values(ascending=False).head()\n",
    "\n",
    "# Plot the results\n",
    "max_impacts_sorted.plot(kind=\"bar\", color=\"teal\")\n",
    "plt.title(\"Top 5 Objects by Maximum Possible Impacts\")\n",
    "plt.xlabel(\"Object Name\")\n",
    "plt.ylabel(\"Maximum Possible Impacts\")\n",
    "plt.grid(axis='y')\n",
    "\n",
    "# Show the plot\n",
    "plt.show()"
   ]
  },
  {
   "cell_type": "code",
   "execution_count": 80,
   "id": "78c1663e",
   "metadata": {},
   "outputs": [
    {
     "data": {
      "text/plain": [
       "RangeIndex(start=0, stop=5, step=1)"
      ]
     },
     "execution_count": 80,
     "metadata": {},
     "output_type": "execute_result"
    }
   ],
   "source": [
    "#Show the name of the Region\n",
    "df_impacts['Possible Impacts'].head(5).index"
   ]
  },
  {
   "cell_type": "code",
   "execution_count": 48,
   "id": "de9d189a",
   "metadata": {},
   "outputs": [
    {
     "data": {
      "text/plain": [
       "<AxesSubplot:ylabel='Density'>"
      ]
     },
     "execution_count": 48,
     "metadata": {},
     "output_type": "execute_result"
    },
    {
     "data": {
      "image/png": "[encoded data removed]",
      "text/plain": [
       "<Figure size 432x288 with 1 Axes>"
      ]
     },
     "metadata": {
      "needs_background": "light"
     },
     "output_type": "display_data"
    }
   ],
   "source": [
    "#Draw the kde plot\n",
    "df_impacts['Cumulative Palermo Scale'].plot(kind=\"kde\",color=\"teal\")"
   ]
  },
  {
   "cell_type": "code",
   "execution_count": 87,
   "id": "3955a2a4",
   "metadata": {},
   "outputs": [
    {
     "data": {
      "text/plain": [
       "-6.014641288433382"
      ]
     },
     "execution_count": 87,
     "metadata": {},
     "output_type": "execute_result"
    }
   ],
   "source": [
    "df_impacts['Cumulative Palermo Scale'].mean()"
   ]
  },
  {
   "cell_type": "code",
   "execution_count": 49,
   "id": "f4550933",
   "metadata": {},
   "outputs": [
    {
     "data": {
      "text/plain": [
       "<AxesSubplot:ylabel='Density'>"
      ]
     },
     "execution_count": 49,
     "metadata": {},
     "output_type": "execute_result"
    },
    {
     "data": {
      "image/png": "[encoded data removed]",
      "text/plain": [
       "<Figure size 432x288 with 1 Axes>"
      ]
     },
     "metadata": {
      "needs_background": "light"
     },
     "output_type": "display_data"
    }
   ],
   "source": [
    "#Draw the kde plot\n",
    "df_impacts['Maximum Palermo Scale'].plot(kind=\"kde\",color=\"teal\")"
   ]
  },
  {
   "cell_type": "code",
   "execution_count": 88,
   "id": "51717229",
   "metadata": {},
   "outputs": [
    {
     "data": {
      "text/plain": [
       "-6.330893118594436"
      ]
     },
     "execution_count": 88,
     "metadata": {},
     "output_type": "execute_result"
    }
   ],
   "source": [
    "df_impacts['Maximum Palermo Scale'].mean()"
   ]
  },
  {
   "cell_type": "code",
   "execution_count": null,
   "id": "3fda6ef2",
   "metadata": {},
   "outputs": [],
   "source": []
  },
  {
   "cell_type": "code",
   "execution_count": null,
   "id": "edb662e4",
   "metadata": {},
   "outputs": [],
   "source": []
  },
  {
   "cell_type": "code",
   "execution_count": 50,
   "id": "3cec69a2",
   "metadata": {},
   "outputs": [
    {
     "data": {
      "image/png": "[encoded data removed]",
      "text/plain": [
       "<Figure size 432x288 with 1 Axes>"
      ]
     },
     "metadata": {
      "needs_background": "light"
     },
     "output_type": "display_data"
    }
   ],
   "source": [
    "import pandas as pd\n",
    "import matplotlib.pyplot as plt\n",
    "\n",
    "# Assuming df_impacts is your DataFrame and it has been loaded correctly\n",
    "# Group by 'Object Name' and find the maximum 'Asteroid Velocity' for each object\n",
    "max_velocity = df_impacts.groupby('Object Name')['Asteroid Velocity'].max()\n",
    "\n",
    "# Sort the results to get the top objects by maximum asteroid velocity\n",
    "max_velocity_sorted = max_velocity.sort_values(ascending=False).head(5)\n",
    "\n",
    "# Plot the results\n",
    "max_velocity_sorted.plot(kind=\"bar\", color=\"teal\")\n",
    "plt.title(\"Top 5 Objects by Maximum Asteroid Velocity\")\n",
    "plt.xlabel(\"Object Name\")\n",
    "plt.ylabel(\"Maximum Asteroid Velocity (km/s)\")\n",
    "plt.grid(axis='y')\n",
    "\n",
    "# Show the plot\n",
    "plt.show()\n"
   ]
  },
  {
   "cell_type": "code",
   "execution_count": 53,
   "id": "7e03fb59",
   "metadata": {},
   "outputs": [
    {
     "data": {
      "text/plain": [
       "<AxesSubplot:ylabel='Density'>"
      ]
     },
     "execution_count": 53,
     "metadata": {},
     "output_type": "execute_result"
    },
    {
     "data": {
      "image/png": "[encoded data removed]",
      "text/plain": [
       "<Figure size 432x288 with 1 Axes>"
      ]
     },
     "metadata": {
      "needs_background": "light"
     },
     "output_type": "display_data"
    }
   ],
   "source": [
    "#Draw the kde plot\n",
    "df_impacts['Asteroid Magnitude'].plot(kind=\"kde\",color=\"teal\")"
   ]
  },
  {
   "cell_type": "code",
   "execution_count": 89,
   "id": "e476f181",
   "metadata": {},
   "outputs": [
    {
     "data": {
      "text/plain": [
       "25.708638360175694"
      ]
     },
     "execution_count": 89,
     "metadata": {},
     "output_type": "execute_result"
    }
   ],
   "source": [
    "df_impacts['Asteroid Magnitude'].mean()"
   ]
  },
  {
   "cell_type": "code",
   "execution_count": null,
   "id": "40188a49",
   "metadata": {},
   "outputs": [],
   "source": []
  }
 ],
 "metadata": {
  "kernelspec": {
   "display_name": "Python 3 (ipykernel)",
   "language": "python",
   "name": "python3"
  },
  "language_info": {
   "codemirror_mode": {
    "name": "ipython",
    "version": 3
   },
   "file_extension": ".py",
   "mimetype": "text/x-python",
   "name": "python",
   "nbconvert_exporter": "python",
   "pygments_lexer": "ipython3",
   "version": "3.9.12"
  }
 },
 "nbformat": 4,
 "nbformat_minor": 5
}
